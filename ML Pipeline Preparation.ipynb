{
 "cells": [
  {
   "cell_type": "markdown",
   "source": [
    "# ML Pipeline Preparation\n",
    "Follow the instructions below to help you create your ML pipeline.\n",
    "### 1. Import libraries and load data from database.\n",
    "- Import Python libraries\n",
    "- Load dataset from database with [`read_sql_table`](https://pandas.pydata.org/pandas-docs/stable/generated/pandas.read_sql_table.html)\n",
    "- Define feature and target variables X and Y"
   ],
   "metadata": {}
  },
  {
   "cell_type": "code",
   "execution_count": 21,
   "source": [
    "# import libraries\n",
    "import sys\n",
    "import pandas as pd\n",
    "import numpy as np\n",
    "import matplotlib.pyplot as plt\n",
    "import seaborn as sns\n",
    "import re\n",
    "import pickle\n",
    "from sqlalchemy import create_engine\n",
    "from nltk.tokenize import word_tokenize\n",
    "from nltk.stem import WordNetLemmatizer\n",
    "from sklearn.pipeline import Pipeline, FeatureUnion\n",
    "from sklearn.feature_extraction.text import CountVectorizer, TfidfTransformer\n",
    "from sklearn.metrics import classification_report, precision_score, recall_score\n",
    "from sklearn.model_selection import train_test_split, GridSearchCV\n",
    "from sklearn.multioutput import MultiOutputClassifier\n",
    "from sklearn.ensemble import RandomForestClassifier, AdaBoostClassifier\n",
    "from sklearn.tree import DecisionTreeClassifier\n",
    "from sklearn.base import BaseEstimator, TransformerMixin"
   ],
   "outputs": [],
   "metadata": {}
  },
  {
   "cell_type": "code",
   "execution_count": 23,
   "source": [
    "# load data from database\n",
    "def load_data(database_filepath):\n",
    "    engine = create_engine('sqlite:///'+database_filepath)\n",
    "    df = pd.read_sql(\"SELECT * FROM DisasterResponse\", engine)\n",
    "    X = df['message'].values\n",
    "    y = df.drop(['id','message','original','genre'],axis=1).values\n",
    "    category_names = list(df.columns[4:])\n",
    "    return X, y, category_names"
   ],
   "outputs": [],
   "metadata": {}
  },
  {
   "cell_type": "code",
   "execution_count": 3,
   "source": [
    "X, y, category = load_data('data/DisasterResponse.db')"
   ],
   "outputs": [],
   "metadata": {}
  },
  {
   "cell_type": "code",
   "execution_count": 24,
   "source": [
    "responses = pd.DataFrame(y, columns=category)\n",
    "responses.mean().sort_values(ascending=False).plot(kind='bar');"
   ],
   "outputs": [
    {
     "output_type": "display_data",
     "data": {
      "text/plain": [
       "<Figure size 432x288 with 1 Axes>"
      ],
      "image/png": "[encoded data removed]"
     },
     "metadata": {
      "needs_background": "light"
     }
    }
   ],
   "metadata": {}
  },
  {
   "cell_type": "markdown",
   "source": [
    "### 2. Write a tokenization function to process your text data"
   ],
   "metadata": {}
  },
  {
   "cell_type": "code",
   "execution_count": 5,
   "source": [
    "def tokenize(text):\n",
    "    text = re.sub(r\"[^a-zA-Z0-9]\", \" \", text.lower())\n",
    "    tokens = word_tokenize(text)\n",
    "    lemmatizer = WordNetLemmatizer()\n",
    "\n",
    "    clean_tokens = []\n",
    "    for tok in tokens:\n",
    "        clean_tok = lemmatizer.lemmatize(tok).lower().strip()\n",
    "        clean_tokens.append(clean_tok)\n",
    "\n",
    "    return clean_tokens"
   ],
   "outputs": [],
   "metadata": {}
  },
  {
   "cell_type": "markdown",
   "source": [
    "### 3. Build a machine learning pipeline\n",
    "This machine pipeline should take in the `message` column as input and output classification results on the other 36 categories in the dataset. You may find the [MultiOutputClassifier](http://scikit-learn.org/stable/modules/generated/sklearn.multioutput.MultiOutputClassifier.html) helpful for predicting multiple target variables."
   ],
   "metadata": {}
  },
  {
   "cell_type": "code",
   "execution_count": 6,
   "source": [
    "pipeline = Pipeline([\n",
    "        ('vect', CountVectorizer(tokenizer=tokenize)),\n",
    "        ('tfidf', TfidfTransformer()),\n",
    "        ('clf', MultiOutputClassifier(RandomForestClassifier()))\n",
    "])"
   ],
   "outputs": [],
   "metadata": {}
  },
  {
   "cell_type": "markdown",
   "source": [
    "### 4. Train pipeline\n",
    "- Split data into train and test sets\n",
    "- Train pipeline"
   ],
   "metadata": {}
  },
  {
   "cell_type": "code",
   "execution_count": 7,
   "source": [
    "# X, y, category_names = load_data()\n",
    "X_train, X_test, y_train, y_test = train_test_split(X, y, random_state=42)"
   ],
   "outputs": [],
   "metadata": {}
  },
  {
   "cell_type": "code",
   "execution_count": 8,
   "source": [
    "# train classifier\n",
    "pipeline.fit(X_train, y_train)"
   ],
   "outputs": [
    {
     "output_type": "execute_result",
     "data": {
      "text/plain": [
       "Pipeline(steps=[('vect',\n",
       "                 CountVectorizer(tokenizer=<function tokenize at 0x7fa148471d40>)),\n",
       "                ('tfidf', TfidfTransformer()),\n",
       "                ('clf',\n",
       "                 MultiOutputClassifier(estimator=RandomForestClassifier()))])"
      ]
     },
     "metadata": {},
     "execution_count": 8
    }
   ],
   "metadata": {}
  },
  {
   "cell_type": "markdown",
   "source": [
    "### 5. Test your model\n",
    "Report the f1 score, precision and recall for each output category of the dataset. You can do this by iterating through the columns and calling sklearn's `classification_report` on each."
   ],
   "metadata": {}
  },
  {
   "cell_type": "code",
   "execution_count": 9,
   "source": [
    "# predict on test data\n",
    "y_pred = pipeline.predict(X_test)"
   ],
   "outputs": [],
   "metadata": {}
  },
  {
   "cell_type": "code",
   "execution_count": 10,
   "source": [
    "# evaluate classification model\n",
    "def evaluate_model(y_test, y_pred, category):\n",
    "    clsReport = classification_report(y_test, y_pred, target_names = category, zero_division=1)\n",
    "    print(\"Classification report:\", clsReport)\n",
    "\n",
    "evaluate_model(y_test, y_pred, category)"
   ],
   "outputs": [
    {
     "output_type": "stream",
     "name": "stdout",
     "text": [
      "Classification report:                         precision    recall  f1-score   support\n",
      "\n",
      "               related       0.81      0.97      0.88      4991\n",
      "               request       0.89      0.42      0.57      1111\n",
      "                 offer       1.00      0.00      0.00        33\n",
      "           aid_related       0.78      0.62      0.69      2670\n",
      "          medical_help       0.72      0.06      0.11       535\n",
      "      medical_products       0.83      0.06      0.11       344\n",
      "     search_and_rescue       0.78      0.04      0.08       159\n",
      "              security       0.33      0.01      0.02       116\n",
      "              military       0.69      0.04      0.08       200\n",
      "           child_alone       1.00      1.00      1.00         0\n",
      "                 water       0.87      0.24      0.37       418\n",
      "                  food       0.88      0.41      0.56       745\n",
      "               shelter       0.83      0.27      0.41       581\n",
      "              clothing       0.75      0.06      0.11        98\n",
      "                 money       0.88      0.05      0.10       133\n",
      "        missing_people       1.00      0.00      0.00        73\n",
      "              refugees       0.20      0.00      0.01       215\n",
      "                 death       0.76      0.10      0.17       297\n",
      "             other_aid       0.70      0.02      0.04       864\n",
      "infrastructure_related       0.00      0.00      0.00       411\n",
      "             transport       0.74      0.07      0.12       303\n",
      "             buildings       0.70      0.04      0.08       323\n",
      "           electricity       1.00      0.01      0.01       147\n",
      "                 tools       1.00      0.00      0.00        43\n",
      "             hospitals       1.00      0.00      0.00        56\n",
      "                 shops       1.00      0.00      0.00        24\n",
      "           aid_centers       1.00      0.00      0.00        81\n",
      "  other_infrastructure       1.00      0.00      0.00       283\n",
      "       weather_related       0.85      0.64      0.73      1773\n",
      "                floods       0.88      0.41      0.56       519\n",
      "                 storm       0.75      0.49      0.59       605\n",
      "                  fire       0.00      0.00      0.00        66\n",
      "            earthquake       0.88      0.76      0.82       590\n",
      "                  cold       0.91      0.07      0.13       141\n",
      "         other_weather       0.90      0.03      0.05       335\n",
      "         direct_report       0.85      0.33      0.48      1272\n",
      "\n",
      "             micro avg       0.82      0.50      0.62     20555\n",
      "             macro avg       0.78      0.20      0.25     20555\n",
      "          weighted avg       0.79      0.50      0.54     20555\n",
      "           samples avg       0.78      0.71      0.57     20555\n",
      "\n"
     ]
    }
   ],
   "metadata": {}
  },
  {
   "cell_type": "markdown",
   "source": [
    "### 6. Improve your model\n",
    "Use grid search to find better parameters. "
   ],
   "metadata": {}
  },
  {
   "cell_type": "code",
   "execution_count": 11,
   "source": [
    "def build_model():\n",
    "    # specify parameters for grid search\n",
    "    parameters = {\n",
    "    'clf__estimator__bootstrap': [True],\n",
    "    'clf__estimator__min_samples_leaf': [1, 2, 3],\n",
    "    'clf__estimator__min_samples_split': [2, 4, 6],\n",
    "    'clf__estimator__n_estimators': [20, 50, 100]\n",
    "    }\n",
    "    # create grid search object\n",
    "    cv = GridSearchCV(estimator = pipeline, param_grid = parameters, cv = 3, n_jobs=-1, verbose=2)\n",
    "\n",
    "    return cv"
   ],
   "outputs": [],
   "metadata": {}
  },
  {
   "cell_type": "code",
   "execution_count": 12,
   "source": [
    "model = build_model()           \n",
    "model.fit(X_train, y_train)\n",
    "y_pred = model.predict(X_test)"
   ],
   "outputs": [
    {
     "output_type": "stream",
     "name": "stdout",
     "text": [
      "Fitting 3 folds for each of 27 candidates, totalling 81 fits\n"
     ]
    },
    {
     "output_type": "stream",
     "name": "stderr",
     "text": [
      "[Parallel(n_jobs=-1)]: Using backend LokyBackend with 4 concurrent workers.\n",
      "[Parallel(n_jobs=-1)]: Done  33 tasks      | elapsed: 38.1min\n",
      "[Parallel(n_jobs=-1)]: Done  81 out of  81 | elapsed: 104.0min finished\n"
     ]
    }
   ],
   "metadata": {}
  },
  {
   "cell_type": "markdown",
   "source": [
    "### 7. Test your model\n",
    "Show the accuracy, precision, and recall of the tuned model.  \n",
    "\n",
    "Since this project focuses on code quality, process, and  pipelines, there is no minimum performance metric needed to pass. However, make sure to fine tune your models for accuracy, precision and recall to make your project stand out - especially for your portfolio!"
   ],
   "metadata": {}
  },
  {
   "cell_type": "code",
   "execution_count": 13,
   "source": [
    "accuracy = (y_pred == y_test).mean()\n",
    "precision = precision_score(y_test, y_pred, average='weighted', zero_division=1)\n",
    "recall = recall_score(y_test, y_pred, average='weighted', zero_division=1)\n",
    "print(\"Accuracy:\", accuracy)\n",
    "print(\"Precision:\", precision)\n",
    "print(\"Recall:\", recall)"
   ],
   "outputs": [
    {
     "output_type": "stream",
     "name": "stdout",
     "text": [
      "Accuracy: 0.9464830637778456\n",
      "Precision: 0.7901120390574569\n",
      "Recall: 0.49647287764534176\n"
     ]
    }
   ],
   "metadata": {}
  },
  {
   "cell_type": "markdown",
   "source": [
    "### 8. Try improving your model further. Here are a few ideas:\n",
    "* try other machine learning algorithms\n",
    "* add other features besides the TF-IDF"
   ],
   "metadata": {}
  },
  {
   "cell_type": "code",
   "execution_count": 14,
   "source": [
    "def findBestModel(X_train, y_train, X_test, y_test):\n",
    "    algos = {\n",
    "        'RandomForestClassifier': {\n",
    "            'model': MultiOutputClassifier(RandomForestClassifier()),\n",
    "            'params': {\n",
    "                'clf__estimator__bootstrap': [True],\n",
    "                'clf__estimator__min_samples_leaf': [1, 2],\n",
    "                'clf__estimator__min_samples_split': [2, 4],\n",
    "                'clf__estimator__n_estimators': [100, 200]\n",
    "                }\n",
    "        },\n",
    "\n",
    "        'DecisionTreeClassifier' : {\n",
    "            'model': MultiOutputClassifier(DecisionTreeClassifier()),\n",
    "            'params': {\n",
    "                'clf__estimator__min_samples_split': [2, 4],\n",
    "                'clf__estimator__min_samples_leaf': [1, 2]\n",
    "            }\n",
    "        },\n",
    "\n",
    "        'AdaBoostClassifier': {\n",
    "            'model': MultiOutputClassifier(AdaBoostClassifier()),\n",
    "            'params': {\n",
    "                'clf__estimator__n_estimators': [50, 80],\n",
    "                'clf__estimator__learning_rate': [0.01, 0.1, 0.5]\n",
    "            }\n",
    "        }\n",
    "    }\n",
    "    scores = []\n",
    "    for algo_name, config in algos.items():\n",
    "        pipeline = Pipeline([\n",
    "            ('vect', CountVectorizer(tokenizer=tokenize)),\n",
    "            ('tfidf', TfidfTransformer()),\n",
    "            ('clf', config['model'])\n",
    "        ])\n",
    "        \n",
    "        gs = GridSearchCV(pipeline, config['params'], cv=3, n_jobs=-1, verbose=2, return_train_score=False)\n",
    "        gs.fit(X_train, y_train)\n",
    "        y_pred = gs.predict(X_test)\n",
    "        scores.append({\n",
    "            'model': algo_name,\n",
    "            'best_score': gs.best_score_,\n",
    "            'best_params': gs.best_params_,\n",
    "            'accuracy': (y_pred == y_test).mean(),\n",
    "            'precision': precision_score(y_test, y_pred, average='weighted', zero_division=1),\n",
    "            'recall': recall_score(y_test, y_pred, average='weighted', zero_division=1)\n",
    "        })\n",
    "    df = pd.DataFrame(scores,columns=['model', 'best_score', 'best_params', 'accuracy', 'precision', 'recall'])\n",
    "    return df"
   ],
   "outputs": [],
   "metadata": {}
  },
  {
   "cell_type": "code",
   "execution_count": 15,
   "source": [
    "df = findBestModel(X_train, y_train, X_test, y_test)\n",
    "df"
   ],
   "outputs": [
    {
     "output_type": "stream",
     "name": "stdout",
     "text": [
      "Fitting 3 folds for each of 8 candidates, totalling 24 fits\n"
     ]
    },
    {
     "output_type": "stream",
     "name": "stderr",
     "text": [
      "[Parallel(n_jobs=-1)]: Using backend LokyBackend with 4 concurrent workers.\n",
      "[Parallel(n_jobs=-1)]: Done  24 out of  24 | elapsed: 147.8min finished\n"
     ]
    },
    {
     "output_type": "stream",
     "name": "stdout",
     "text": [
      "Fitting 3 folds for each of 4 candidates, totalling 12 fits\n"
     ]
    },
    {
     "output_type": "stream",
     "name": "stderr",
     "text": [
      "[Parallel(n_jobs=-1)]: Using backend LokyBackend with 4 concurrent workers.\n",
      "[Parallel(n_jobs=-1)]: Done  12 out of  12 | elapsed: 182.3min remaining:    0.0s\n",
      "[Parallel(n_jobs=-1)]: Done  12 out of  12 | elapsed: 182.3min finished\n"
     ]
    },
    {
     "output_type": "stream",
     "name": "stdout",
     "text": [
      "Fitting 3 folds for each of 6 candidates, totalling 18 fits\n"
     ]
    },
    {
     "output_type": "stream",
     "name": "stderr",
     "text": [
      "[Parallel(n_jobs=-1)]: Using backend LokyBackend with 4 concurrent workers.\n",
      "[Parallel(n_jobs=-1)]: Done  18 out of  18 | elapsed: 38.5min finished\n"
     ]
    },
    {
     "output_type": "execute_result",
     "data": {
      "text/plain": [
       "                    model  best_score  \\\n",
       "0  RandomForestClassifier    0.251907   \n",
       "1  DecisionTreeClassifier    0.167430   \n",
       "2      AdaBoostClassifier    0.279371   \n",
       "\n",
       "                                         best_params  accuracy  precision  \\\n",
       "0  {'clf__estimator__bootstrap': True, 'clf__esti...  0.946763   0.799444   \n",
       "1  {'clf__estimator__min_samples_leaf': 2, 'clf__...  0.935341   0.626962   \n",
       "2  {'clf__estimator__learning_rate': 0.5, 'clf__e...  0.950124   0.749455   \n",
       "\n",
       "     recall  \n",
       "0  0.500803  \n",
       "1  0.562491  \n",
       "2  0.577621  "
      ],
      "text/html": [
       "<div>\n",
       "<style scoped>\n",
       "    .dataframe tbody tr th:only-of-type {\n",
       "        vertical-align: middle;\n",
       "    }\n",
       "\n",
       "    .dataframe tbody tr th {\n",
       "        vertical-align: top;\n",
       "    }\n",
       "\n",
       "    .dataframe thead th {\n",
       "        text-align: right;\n",
       "    }\n",
       "</style>\n",
       "<table border=\"1\" class=\"dataframe\">\n",
       "  <thead>\n",
       "    <tr style=\"text-align: right;\">\n",
       "      <th></th>\n",
       "      <th>model</th>\n",
       "      <th>best_score</th>\n",
       "      <th>best_params</th>\n",
       "      <th>accuracy</th>\n",
       "      <th>precision</th>\n",
       "      <th>recall</th>\n",
       "    </tr>\n",
       "  </thead>\n",
       "  <tbody>\n",
       "    <tr>\n",
       "      <th>0</th>\n",
       "      <td>RandomForestClassifier</td>\n",
       "      <td>0.251907</td>\n",
       "      <td>{'clf__estimator__bootstrap': True, 'clf__esti...</td>\n",
       "      <td>0.946763</td>\n",
       "      <td>0.799444</td>\n",
       "      <td>0.500803</td>\n",
       "    </tr>\n",
       "    <tr>\n",
       "      <th>1</th>\n",
       "      <td>DecisionTreeClassifier</td>\n",
       "      <td>0.167430</td>\n",
       "      <td>{'clf__estimator__min_samples_leaf': 2, 'clf__...</td>\n",
       "      <td>0.935341</td>\n",
       "      <td>0.626962</td>\n",
       "      <td>0.562491</td>\n",
       "    </tr>\n",
       "    <tr>\n",
       "      <th>2</th>\n",
       "      <td>AdaBoostClassifier</td>\n",
       "      <td>0.279371</td>\n",
       "      <td>{'clf__estimator__learning_rate': 0.5, 'clf__e...</td>\n",
       "      <td>0.950124</td>\n",
       "      <td>0.749455</td>\n",
       "      <td>0.577621</td>\n",
       "    </tr>\n",
       "  </tbody>\n",
       "</table>\n",
       "</div>"
      ]
     },
     "metadata": {},
     "execution_count": 15
    }
   ],
   "metadata": {}
  },
  {
   "cell_type": "code",
   "execution_count": 18,
   "source": [
    "clf_learning_rate = df.loc[2, 'best_params']['clf__estimator__learning_rate']\n",
    "clf_n_estimators = df.loc[2, 'best_params']['clf__estimator__n_estimators']\n",
    "\n",
    "pipeline = Pipeline([\n",
    "        ('vect', CountVectorizer(tokenizer=tokenize)),\n",
    "        ('tfidf', TfidfTransformer()),\n",
    "        ('clf', MultiOutputClassifier(AdaBoostClassifier(learning_rate=clf_learning_rate, n_estimators=clf_n_estimators)))\n",
    "])\n",
    "      \n",
    "pipeline.fit(X_train, y_train)"
   ],
   "outputs": [
    {
     "output_type": "execute_result",
     "data": {
      "text/plain": [
       "Pipeline(steps=[('vect',\n",
       "                 CountVectorizer(tokenizer=<function tokenize at 0x7fa148471d40>)),\n",
       "                ('tfidf', TfidfTransformer()),\n",
       "                ('clf',\n",
       "                 MultiOutputClassifier(estimator=AdaBoostClassifier(learning_rate=0.5,\n",
       "                                                                    n_estimators=200)))])"
      ]
     },
     "metadata": {},
     "execution_count": 18
    }
   ],
   "metadata": {}
  },
  {
   "cell_type": "markdown",
   "source": [
    "### 9. Export your model as a pickle file"
   ],
   "metadata": {}
  },
  {
   "cell_type": "code",
   "execution_count": 20,
   "source": [
    "def save_model(model, classifier_filepath):\n",
    "    pickle.dump(model, open(classifier_filepath, 'wb'))\n",
    "\n",
    "save_model(pipeline, 'models/classifier.pkl')"
   ],
   "outputs": [],
   "metadata": {}
  },
  {
   "cell_type": "markdown",
   "source": [
    "### 10. Use this notebook to complete `train.py`\n",
    "Use the template file attached in the Resources folder to write a script that runs the steps above to create a database and export a model based on a new dataset specified by the user."
   ],
   "metadata": {}
  },
  {
   "cell_type": "code",
   "execution_count": null,
   "source": [
    "def main():\n",
    "    if len(sys.argv) == 3:\n",
    "\n",
    "        database_filepath, classifier_filepath = sys.argv[1:]\n",
    "\n",
    "        print('Loading data...\\n    DATABASE: {}'.format(database_filepath))\n",
    "        X, y, category = load_data(database_filepath)\n",
    "        X_train, X_test, y_train, y_test = train_test_split(X, y, random_state=42)\n",
    "\n",
    "        print('Training model...\\n')    \n",
    "        model = build_model()      \n",
    "        model.fit(X_train, y_train)\n",
    "\n",
    "        print('Predicting on test data...\\n') \n",
    "        y_pred = model.predict(X_test)\n",
    "\n",
    "        print('Evaluating model...\\n')\n",
    "        evaluate_model(y_test, y_pred, category)\n",
    "        \n",
    "        print('Saving model...\\n    MODEL: {}'.format(classifier_filepath))\n",
    "        save_model(model, classifier_filepath)\n",
    "        \n",
    "        print('Trained model saved!')\n",
    "    \n",
    "    else:\n",
    "        print('Please provide the filepath of the disaster response database '\\\n",
    "              'as the first argument and the filepath of the pickle file to '\\\n",
    "              'save the model to as the second argument. \\n\\nExample: python '\\\n",
    "              'models/train_classifier.py data/DisasterResponse.db models/classifier.pkl')\n",
    "\n",
    "if __name__ == '__main__':\n",
    "    main()"
   ],
   "outputs": [],
   "metadata": {}
  }
 ],
 "metadata": {
  "interpreter": {
   "hash": "dca0ade3e726a953b501b15e8e990130d2b7799f14cfd9f4271676035ebe5511"
  },
  "kernelspec": {
   "display_name": "Python 3.7.6 64-bit ('base': conda)",
   "name": "python3"
  },
  "language_info": {
   "codemirror_mode": {
    "name": "ipython",
    "version": 3
   },
   "file_extension": ".py",
   "mimetype": "text/x-python",
   "name": "python",
   "nbconvert_exporter": "python",
   "pygments_lexer": "ipython3",
   "version": "3.7.6"
  }
 },
 "nbformat": 4,
 "nbformat_minor": 2
}